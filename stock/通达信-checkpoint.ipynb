{
 "cells": [
  {
   "cell_type": "code",
   "execution_count": null,
   "metadata": {
    "collapsed": false
   },
   "outputs": [],
   "source": [
    "import sys\n",
    "reload(sys)\n",
    "sys.setdefaultencoding('UTF-8')\n",
    "import chardet\n",
    "import codecs\n",
    "\n",
    "print('开始')\n",
    "url =\"C:/new_gjzq_v6/T0002/blocknew/\"\n",
    "file = open(url+\"zxgmore.dat\",'r')\n",
    "fencoding=chardet.detect(file.read())\n",
    "print('-------',fencoding)\n",
    "file = open(url+\"zxgmore.dat\",'r')\n",
    "#decoder = codecs.getdecoder('UTF-16LE')  \n",
    "s = file.read()[:]\n",
    "print s\n",
    "print s.decode(encoding ='utf8')\n",
    "#print decoder(s)\n",
    "file.close()"
   ]
  },
  {
   "cell_type": "markdown",
   "metadata": {
    "collapsed": false
   },
   "source": [
    "## 一、通达信自定义设置\n",
    "（1）通达信自定义板块在通达信软件目录的\\T0002\\blocknew\\内，它们由在通达信软件目录的\\T0002\\内的两个文件block.cfg和block.clr管理。\n",
    "\n",
    "- blocknew.cfg：**板块布局和内容设置**（板块名[平台突破]和别名[PPTP]间隔**46**个NUL|空格，板块别名[PPTP]与下一个板块名[尾部拉升]间隔**66**个NUL|空格）。\n",
    "- blocknew.clr：目前是乱码。\n",
    "\n",
    "*自定义版块*：每添加一个自定义版块，在blocknew中都会生产一个，**自定义板块名.blk**文件。其中，**自选股**名为ZXG.blk。\n",
    "\n",
    "（2）文字标记。\n",
    "\n",
    "- mark.dat：股票上文字加T标记。格式如下：\n",
    "\n",
    "```\n",
    "                        [MARK]\n",
    "                        00000001=7\n",
    "                        00000023=7\n",
    "                        [TIP]\n",
    "                        00000001=中文测试\n",
    "                        00000023=自定义板块测试\n",
    "```\n",
    "\n",
    "通达信各板块的股票代码在通达信软件目录的\\T0002\\hq_cache\\内的block.dat文件中。\n",
    "\n",
    "- block.dat\n",
    "通达信软件自带指标的用法在通达信软件目录的index.dat文件内。\n",
    "\n",
    "- index.dat\n",
    "通达信每日一帖的内容在文件tipd.dat内\n",
    "\n",
    "- tipd.dat\n",
    "通达信自定义指标都记载在通达信软件目录的\\T0002\\内的PriGS.dat文件中，导出公式取自该文件，导入公式加入此文件，修改公式就是修改此文件。\n",
    "\n",
    "- PricGS.dat\n",
    "通达信板面设置在通达信软件目录的\\T0002\\pad\\内。\n",
    "\n",
    "- pad\n",
    "通达信模板设置在通达信软件目录的\\T0002\\内的PriPack.dat文件内。\n",
    "\n",
    "- PricPack.dat\n",
    "通达信WEBINFO.ini的文件中，有很多有用的网址。\n",
    "\n",
    "- WEBINFO.ini\n",
    "通达信的Connect.cfg文件，以及通达信软件目录的\\T0002\\内的user.ini文件，管理行情、交易、菜单、系统设置等软件许多重要内容。\n",
    "\n",
    "- user.ini|Connect.cfg"
   ]
  },
  {
   "cell_type": "markdown",
   "metadata": {
    "collapsed": true
   },
   "source": [
    "## 二、通达信自定义代码"
   ]
  },
  {
   "cell_type": "code",
   "execution_count": null,
   "metadata": {
    "collapsed": true
   },
   "outputs": [],
   "source": [
    "class TDXTANGYANG:\n",
    "    \n",
    "    def __init__(self):\n",
    "        path = 'C:/new_gjzq_v6/T0002/'\n",
    "    \n",
    "    def mark_dat_file(self):\n",
    "        \n",
    "    def blocknew_file(self):\n",
    "        "
   ]
  },
  {
   "cell_type": "code",
   "execution_count": null,
   "metadata": {
    "collapsed": true
   },
   "outputs": [],
   "source": []
  },
  {
   "cell_type": "code",
   "execution_count": null,
   "metadata": {
    "collapsed": true
   },
   "outputs": [],
   "source": []
  },
  {
   "cell_type": "code",
   "execution_count": null,
   "metadata": {
    "collapsed": true
   },
   "outputs": [],
   "source": []
  },
  {
   "cell_type": "code",
   "execution_count": null,
   "metadata": {
    "collapsed": true
   },
   "outputs": [],
   "source": []
  },
  {
   "cell_type": "code",
   "execution_count": null,
   "metadata": {
    "collapsed": true
   },
   "outputs": [],
   "source": []
  },
  {
   "cell_type": "code",
   "execution_count": null,
   "metadata": {
    "collapsed": true
   },
   "outputs": [],
   "source": []
  }
 ],
 "metadata": {
  "anaconda-cloud": {},
  "kernelspec": {
   "display_name": "Python [Root]",
   "language": "python",
   "name": "Python [Root]"
  },
  "language_info": {
   "codemirror_mode": {
    "name": "ipython",
    "version": 2
   },
   "file_extension": ".py",
   "mimetype": "text/x-python",
   "name": "python",
   "nbconvert_exporter": "python",
   "pygments_lexer": "ipython2",
   "version": "2.7.12"
  }
 },
 "nbformat": 4,
 "nbformat_minor": 0
}
