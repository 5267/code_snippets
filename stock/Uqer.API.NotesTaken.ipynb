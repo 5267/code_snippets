{
 "cells": [
  {
   "cell_type": "markdown",
   "metadata": {
    "nbpresent": {
     "id": "7c2b895c-5176-4ec2-b754-47c290605262"
    }
   },
   "source": [
    "# 注意事项\n",
    "\n",
    "- 优矿数据API，晚上不能用。[优矿免费数据社区](https://uqer.io/data/browse/0/?page=1)"
   ]
  },
  {
   "cell_type": "markdown",
   "metadata": {
    "nbpresent": {
     "id": "d3b0c904-862a-41bb-9afe-29f3b3abe8e7"
    }
   },
   "source": [
    "# 数据获取\n",
    "\n",
    "- 获取当日分钟线： DataAPI.MktBarRTIntraDayGet\n",
    "\n",
    "DataAPI.MktBarRTIntraDayGet(securityID=u\"000001.XSHE\",startTime=u\"\",endTime=u\"\",unit=u\"\",pandas=\"1\")\n",
    "\n",
    "    参数：unit—时间宽度（1/5/15/30/60分钟)\n",
    "    返回值：ticker—证券代码；exchangeCD—交易所代码；totalVolume—当前bar的总交易量"
   ]
  },
  {
   "cell_type": "code",
   "execution_count": null,
   "metadata": {
    "collapsed": true,
    "nbpresent": {
     "id": "b0870566-3b68-4a91-ad1e-e29cb2726a74"
    }
   },
   "outputs": [],
   "source": [
    "=if( (C3>( (sum($C$2:C3)/ COUNT($C$2:C3))+ (3*STDEV($C$2:C3)) )),\n",
    "           ((sum($C$2:C3)/ COUNT($C$2:C3))+(3*STDEV($C$2:C3))) ,\n",
    "      if( (C3<( (sum($C$2:C3)/ COUNT($C$2:C3))- (3*STDEV($C$2:C3)) )),\n",
    "                ((sum($C$2:C3)/ COUNT($C$2:C3))- (3*STDEV($C$2:C3))), C3),C3)"
   ]
  },
  {
   "cell_type": "code",
   "execution_count": null,
   "metadata": {
    "collapsed": true,
    "nbpresent": {
     "id": "37af7521-926b-47e6-8d3d-ad11302d97d6"
    }
   },
   "outputs": [],
   "source": [
    "=IF((C3>((SUM($C$2:C3)/COUNT($C$2:C3))+(2*STDEV($C$2:C3)))),((SUM($C$2:C3)/COUNT($C$2:C3))+(2*STDEV($C$2:C3))),\n",
    " IF((C3<((SUM($C$2:C3)/COUNT($C$2:C3))-(2*STDEV($C$2:C3)))),((SUM($C$2:C3)/COUNT($C$2:C3))-(2*STDEV($C$2:C3))),C3))"
   ]
  },
  {
   "cell_type": "markdown",
   "metadata": {
    "nbpresent": {
     "id": "4b534d36-f302-462e-95cd-d2238c7a00aa"
    }
   },
   "source": [
    "### 1. 获取分钟线数据\n",
    "tushare提供了一次性历史分笔数据明细：ts.get_tick_data('600848',date='2014-01-09')\n",
    "\n",
    "**参数**\n",
    "\n",
    "- code：股票代码，即6位数字代码\n",
    "- date：日期，格式YYYY-MM-DD\n",
    "- retry_count : int, 默认3,如遇网络等问题重复执行的次数\n",
    "- pause : int, 默认 0,重复请求数据过程中暂停的秒数，防止请求间隔时间太短出现的问题\n",
    "\n",
    "**返回值**\n",
    "- time：时间\n",
    "- price：成交价格\n",
    "- change：价格变动\n",
    "- volume：成交手\n",
    "- amount：成交金额(元)\n",
    "- type：买卖类型【买盘、卖盘、中性盘】\n",
    "\n",
    "因此，问题就在于：（1）获取所有A股票的股票代码 | 可通过tushare接口获取；（2）获取交易所交易日日历 | 使用大盘的交易日期代替"
   ]
  },
  {
   "cell_type": "markdown",
   "metadata": {
    "nbpresent": {
     "id": "c1df5233-f506-406c-bf40-474f24e396df"
    }
   },
   "source": [
    "**问题**\n",
    "根据A股票股票代码列表和指定时间段的时间去获取每只股票，指定时间段的历史分钟数据。遇到的问题有：（1）新上市的股票前期没有数据(done)。（2）数据如何存储—目前考虑每只股票的分钟级数据单独存放于一个数据文件中。"
   ]
  },
  {
   "cell_type": "code",
   "execution_count": 2,
   "metadata": {
    "collapsed": false,
    "nbpresent": {
     "id": "89d25ad0-2779-4ffe-aaa2-cb642f2af0cf"
    }
   },
   "outputs": [
    {
     "ename": "ImportError",
     "evalue": "No module named 'tushare'",
     "output_type": "error",
     "traceback": [
      "\u001b[1;31m---------------------------------------------------------------------------\u001b[0m",
      "\u001b[1;31mImportError\u001b[0m                               Traceback (most recent call last)",
      "\u001b[1;32m<ipython-input-2-d906b4cf192c>\u001b[0m in \u001b[0;36m<module>\u001b[1;34m()\u001b[0m\n\u001b[1;32m----> 1\u001b[1;33m \u001b[1;32mimport\u001b[0m \u001b[0mtushare\u001b[0m \u001b[1;32mas\u001b[0m \u001b[0mts\u001b[0m\u001b[1;33m\u001b[0m\u001b[0m\n\u001b[0m\u001b[0;32m      2\u001b[0m \u001b[1;32mimport\u001b[0m \u001b[0mpandas\u001b[0m \u001b[1;32mas\u001b[0m \u001b[0mpd\u001b[0m\u001b[1;33m\u001b[0m\u001b[0m\n\u001b[0;32m      3\u001b[0m \u001b[1;32mimport\u001b[0m \u001b[0mnumpy\u001b[0m \u001b[1;32mas\u001b[0m \u001b[0mnp\u001b[0m\u001b[1;33m\u001b[0m\u001b[0m\n\u001b[0;32m      4\u001b[0m \u001b[0murl\u001b[0m \u001b[1;33m=\u001b[0m\u001b[1;34m'E:/tangyang/tangyang/QuantitativeInvestment/data/'\u001b[0m\u001b[1;33m\u001b[0m\u001b[0m\n",
      "\u001b[1;31mImportError\u001b[0m: No module named 'tushare'"
     ]
    }
   ],
   "source": [
    "import tushare as ts\n",
    "import pandas as pd\n",
    "import numpy as np\n",
    "url ='E:/tangyang/tangyang/QuantitativeInvestment/data/'"
   ]
  },
  {
   "cell_type": "code",
   "execution_count": 10,
   "metadata": {
    "collapsed": true,
    "nbpresent": {
     "id": "f6816577-63ea-4ac1-9f0d-a9f4ed7f8b46"
    }
   },
   "outputs": [],
   "source": [
    "secID =ts.get_stock_basics().index.values  #(1)获取沪深上市公司基本情况"
   ]
  },
  {
   "cell_type": "code",
   "execution_count": 11,
   "metadata": {
    "collapsed": false,
    "nbpresent": {
     "id": "f6d262eb-6a38-42a3-910b-96bab0f158e2"
    },
    "scrolled": true
   },
   "outputs": [
    {
     "name": "stdout",
     "output_type": "stream",
     "text": [
      "['300533' '300532' '603986' ..., '002809' '002807' '000155']\n",
      "2915\n"
     ]
    }
   ],
   "source": [
    "print secID; print len(secID) "
   ]
  },
  {
   "cell_type": "code",
   "execution_count": 26,
   "metadata": {
    "collapsed": false,
    "nbpresent": {
     "id": "b57a155d-f2d8-4bc6-a974-aec2b5c11a92"
    }
   },
   "outputs": [
    {
     "ename": "SyntaxError",
     "evalue": "Missing parentheses in call to 'print' (<ipython-input-26-c36f91ed8fb8>, line 5)",
     "output_type": "error",
     "traceback": [
      "\u001b[1;36m  File \u001b[1;32m\"<ipython-input-26-c36f91ed8fb8>\"\u001b[1;36m, line \u001b[1;32m5\u001b[0m\n\u001b[1;33m    print trading_date[:10]\u001b[0m\n\u001b[1;37m                     ^\u001b[0m\n\u001b[1;31mSyntaxError\u001b[0m\u001b[1;31m:\u001b[0m Missing parentheses in call to 'print'\n"
     ]
    }
   ],
   "source": [
    "trading_date =sorted(ts.get_h_data('000001',start='2015-08-18', end='2016-08-19', index=True).index.values)\n",
    "#test_date =trading_date[0]\n",
    "#print str(test_date)[:10]\n",
    "trading_date =[str(date)[:10] for date in trading_date]\n",
    "print trading_date[:10]"
   ]
  },
  {
   "cell_type": "code",
   "execution_count": null,
   "metadata": {
    "collapsed": false,
    "nbpresent": {
     "id": "cd38ba4e-6144-4700-89a6-4ae1a2f33a62"
    }
   },
   "outputs": [
    {
     "name": "stdout",
     "output_type": "stream",
     "text": [
      "2005-01-01 2005-12-31\n",
      "[Getting data:]###-------------开始下载000048--------2005年的分钟级数据-------------\n",
      "----------2005-01-04---------\n"
     ]
    },
    {
     "name": "stderr",
     "output_type": "stream",
     "text": [
      "D:\\software\\installation\\Anaconda\\Lib\\site-packages\\ipykernel\\__main__.py:17: FutureWarning: sort(....) is deprecated, use sort_index(.....)\n"
     ]
    },
    {
     "name": "stdout",
     "output_type": "stream",
     "text": [
      "        time  price change  volume  amount type        date\n",
      "45  09:30:08   2.37   2.37       7    1659   买盘  2005-01-04\n",
      "----------2005-01-05---------\n",
      "         time  price change  volume  amount type        date\n",
      "102  09:36:27   2.35   2.35       5    1175   买盘  2005-01-05\n",
      "----------2005-01-06---------\n",
      "        time  price change  volume  amount type        date\n",
      "65  10:03:05   2.32   2.32      24    5568   买盘  2005-01-06\n",
      "----------2005-01-07---------\n",
      "         time  price change  volume  amount type        date\n",
      "114  09:33:53   2.34   2.34      59   13806   买盘  2005-01-07\n",
      "----------2005-01-10---------\n",
      "         time  price change  volume  amount type        date\n",
      "114  09:40:13   2.39   2.39      13    3107   买盘  2005-01-10\n",
      "----------2005-01-11---------\n",
      "         time  price change  volume  amount type        date\n",
      "105  09:43:46   2.41   2.41      33    7953   买盘  2005-01-11\n",
      "----------2005-01-12---------\n",
      "        time  price change  volume  amount type        date\n",
      "95  09:34:20   2.47   2.47      10    2470   买盘  2005-01-12\n",
      "----------2005-01-13---------\n",
      "        time  price change  volume  amount type        date\n",
      "75  09:35:08   2.45   2.45      20    4900   买盘  2005-01-13\n",
      "----------2005-01-14---------\n"
     ]
    }
   ],
   "source": [
    "import tushare as ts\n",
    "import pandas as pd\n",
    "import numpy as np\n",
    "\n",
    "\n",
    "def get_min_data_by_year(secID,trading_date,url,year):\n",
    "#(3)获取每只股票的历史分笔数据\n",
    "    for sec in secID[40:]:\n",
    "        print('-------------开始下载%s--------%d年的分钟级数据-------------'%(sec,year))\n",
    "        minutes_data_per_secID =pd.DataFrame()\n",
    "        for one_date in trading_date:\n",
    "            print('----------%s---------'%one_date)\n",
    "            minutes_data = ts.get_tick_data(code=sec,date=one_date,retry_count=4, pause=1)\n",
    "            if len(minutes_data)==3:\n",
    "                pass\n",
    "            else:\n",
    "                minutes_data.sort(inplace=True,ascending=False)\n",
    "                minutes_data['date'] =len(minutes_data)*[one_date]\n",
    "                print(minutes_data.head(1))\n",
    "                minutes_data_per_secID =minutes_data_per_secID.append(minutes_data,ignore_index=False)\n",
    "        if len(minutes_data_per_secID)==0:\n",
    "            print('-------------%s只股票没有数据------------'%sec)\n",
    "            pass\n",
    "        else:\n",
    "            print('-----------存储%s股票的数据---------'%sec)\n",
    "            minutes_data_per_secID.to_csv(url+\"%s_%s_min_data.csv\"%(one_date[:4],sec),index=False)\n",
    "\n",
    "def process():\n",
    "    url ='D:/tangyang/study/FinancialLife/Quantitative Investment/data/'\n",
    "    #(1)获取沪深上市公司基本情况\n",
    "    secID =sorted(ts.get_stock_basics().index.values)  \n",
    "    #(2)获取交易日日历\n",
    "    for year in range(2005,2015):\n",
    "        start =str(year)+'-01-01'; end =str(year)+'-12-31'\n",
    "        print(start, end)\n",
    "        trading_date =sorted(ts.get_h_data('000001',start=start, end=end, index=True).index.values)\n",
    "        trading_date =[str(date)[:10] for date in trading_date] \n",
    "        get_min_data_by_year(secID,trading_date,url,year)\n",
    "process()"
   ]
  },
  {
   "cell_type": "code",
   "execution_count": 13,
   "metadata": {
    "collapsed": false,
    "nbpresent": {
     "id": "d0d6f678-53bf-41f4-8600-5c8c4cc2e910"
    }
   },
   "outputs": [],
   "source": [
    "df = ts.get_tick_data('000001',date='2014-01-09')"
   ]
  },
  {
   "cell_type": "code",
   "execution_count": null,
   "metadata": {
    "collapsed": false,
    "nbpresent": {
     "id": "0b6e73dd-b54e-426b-ba52-e6c123e418c4"
    }
   },
   "outputs": [],
   "source": [
    "TEST =ts.get_tick_data(code='000001',date='2005-09-28',retry_count=4, pause=1)\n",
    "print(TEST.head())"
   ]
  },
  {
   "cell_type": "code",
   "execution_count": 3,
   "metadata": {
    "collapsed": true
   },
   "outputs": [],
   "source": [
    "import os,sys\n"
   ]
  },
  {
   "cell_type": "code",
   "execution_count": 4,
   "metadata": {
    "collapsed": false,
    "nbpresent": {
     "id": "d5595733-eff5-463f-a4e6-ac6d06a84b14"
    }
   },
   "outputs": [
    {
     "name": "stdout",
     "output_type": "stream",
     "text": [
      "C:\\Users\\tangy\\Documents\\tangyang\n"
     ]
    }
   ],
   "source": [
    "print(os.getcwd())"
   ]
  },
  {
   "cell_type": "code",
   "execution_count": 56,
   "metadata": {
    "collapsed": false,
    "nbpresent": {
     "id": "6f750668-6696-437e-8e8c-5cf723ba86b4"
    }
   },
   "outputs": [
    {
     "name": "stdout",
     "output_type": "stream",
     "text": [
      "DatetimeIndex(['2001-01-01', '2001-01-02', '2001-01-03', '2001-01-04',\n",
      "               '2001-01-05', '2001-01-06', '2001-01-07', '2001-01-08',\n",
      "               '2001-01-09', '2001-01-10',\n",
      "               ...\n",
      "               '2016-08-10', '2016-08-11', '2016-08-12', '2016-08-13',\n",
      "               '2016-08-14', '2016-08-15', '2016-08-16', '2016-08-17',\n",
      "               '2016-08-18', '2016-08-19'],\n",
      "              dtype='datetime64[ns]', length=5710, freq='D')\n",
      "2001\n",
      "2002\n",
      "2003\n",
      "2004\n",
      "2005\n",
      "2006\n",
      "2007\n",
      "2008\n",
      "2009\n",
      "2010\n",
      "2011\n",
      "2012\n",
      "2013\n",
      "2014\n",
      "2015\n"
     ]
    }
   ],
   "source": [
    "5*['2016']\n",
    "date_r =pd.date_range('2001-01-01','2016-08-19', freq='D')\n",
    "print(date_r)\n",
    "#'01-01','12-31'\n",
    "for i in range(2001,2016):\n",
    "    print(str(i))"
   ]
  },
  {
   "cell_type": "code",
   "execution_count": 18,
   "metadata": {
    "collapsed": false
   },
   "outputs": [
    {
     "name": "stdout",
     "output_type": "stream",
     "text": [
      "1,4,9\n"
     ]
    }
   ],
   "source": [
    "import numpy as np\n",
    "print(str(np.array(1))+','+str(np.array(4))+','+str(np.array(9)))\n"
   ]
  },
  {
   "cell_type": "code",
   "execution_count": 1,
   "metadata": {
    "collapsed": false
   },
   "outputs": [],
   "source": [
    "import pandas as pd"
   ]
  },
  {
   "cell_type": "markdown",
   "metadata": {
    "collapsed": true
   },
   "source": [
    "## 明天游泳\n",
    "\n",
    "- 早上\n",
    "- 中午\n",
    "- 晚上"
   ]
  },
  {
   "cell_type": "code",
   "execution_count": null,
   "metadata": {
    "collapsed": true
   },
   "outputs": [],
   "source": [
    "d"
   ]
  }
 ],
 "metadata": {
  "anaconda-cloud": {},
  "kernelspec": {
   "display_name": "Python [Root]",
   "language": "python",
   "name": "Python [Root]"
  },
  "language_info": {
   "codemirror_mode": {
    "name": "ipython",
    "version": 2
   },
   "file_extension": ".py",
   "mimetype": "text/x-python",
   "name": "python",
   "nbconvert_exporter": "python",
   "pygments_lexer": "ipython2",
   "version": "2.7.12"
  },
  "nbpresent": {
   "slides": {
    "2034d924-ea18-4fdf-bafe-8bcffe4877dd": {
     "id": "2034d924-ea18-4fdf-bafe-8bcffe4877dd",
     "prev": "490f2885-8603-49d3-8663-5c74f6ba9a05",
     "regions": {
      "d364b428-433f-451f-aa23-0d027ff72235": {
       "attrs": {
        "height": 0.4,
        "width": 0.4,
        "x": 0.1,
        "y": 0.5
       },
       "id": "d364b428-433f-451f-aa23-0d027ff72235"
      },
      "e2885b3b-488b-4949-8f68-236bef68dfc2": {
       "attrs": {
        "height": 0.4000000000000001,
        "width": 0.4,
        "x": 0.5,
        "y": 0.10000000000000002
       },
       "id": "e2885b3b-488b-4949-8f68-236bef68dfc2"
      },
      "fe4d1dbd-379b-4439-aea9-9ddbf85e371b": {
       "attrs": {
        "height": 0.4,
        "width": 0.4,
        "x": 0.5,
        "y": 0.5
       },
       "id": "fe4d1dbd-379b-4439-aea9-9ddbf85e371b"
      }
     }
    },
    "490f2885-8603-49d3-8663-5c74f6ba9a05": {
     "id": "490f2885-8603-49d3-8663-5c74f6ba9a05",
     "prev": null,
     "regions": {
      "13f7056f-271a-4a90-912e-3886310b97b7": {
       "attrs": {
        "height": 0.8,
        "width": 0.45,
        "x": 0.5,
        "y": 0.1
       },
       "content": {
        "cell": "d3b0c904-862a-41bb-9afe-29f3b3abe8e7",
        "part": "source"
       },
       "id": "13f7056f-271a-4a90-912e-3886310b97b7"
      },
      "2e22ef5e-c317-41ad-b66c-ea65734cc3a5": {
       "attrs": {
        "height": 0.8,
        "width": 0.45,
        "x": 0.05,
        "y": 0.1
       },
       "id": "2e22ef5e-c317-41ad-b66c-ea65734cc3a5"
      }
     }
    }
   },
   "themes": {}
  }
 },
 "nbformat": 4,
 "nbformat_minor": 0
}
